{
 "cells": [
  {
   "cell_type": "code",
   "execution_count": 141,
   "id": "565f91dd",
   "metadata": {},
   "outputs": [],
   "source": [
    "import requests\n",
    "import os\n",
    "import re\n",
    "from lyricsgenius import Genius\n",
    "token = 'M68urGHodrob78amM-VgU5L_IDKCawbiSvXhCZbVSJ3X1WfZXuNWoDL4tie6pYOT'\n",
    "genius = Genius(token)"
   ]
  },
  {
   "cell_type": "code",
   "execution_count": 142,
   "id": "4c299b92",
   "metadata": {},
   "outputs": [],
   "source": [
    "# make list of songs in album\n",
    "debut = ['Tim McGraw', 'Picture To Burn', 'Teardrops On My Guitar', 'A Place in this World', 'Cold As You', 'The Outside', 'Tied Together with a Smile','Stay Beautiful', \"Should've Said No\", \"Mary's Song (Oh My My My)\", 'Our Song', \"I'm Only Me When I'm With You\", 'Invisible','A Perfectly Good Heart', 'Teardrops on My Guitar']\n",
    "tv_1989 = ['Welcome To New York (Taylor’s Version)', 'Blank Space (Taylor’s Version)', 'Style (Taylor’s Version)','Out Of The Woods (Taylor’s Version)', 'All You Had To Do Was Stay (Taylor’s Version)', 'Shake It Off (Taylor’s Version)', 'I Wish You Would (Taylor’s Version)','Bad Blood (Taylor’s Version)', 'Wildest Dreams (Taylor’s Version)', 'How You Get The Girl (Taylor’s Version)', 'This Love (Taylor’s Version)','I Know Places (Taylor’s Version)', 'Clean (Taylor’s Version)', 'Wonderland (Taylor’s Version)', 'You Are In Love (Taylor’s Version)', 'New Romantics (Taylor’s Version)','“Slut!” (Taylor’s Version) [From The Vault]', 'Say Don’t Go (Taylor’s Version) [From The Vault]', 'Now That We Don’t Talk (Taylor’s Version) [From The Vault]', 'Suburban Legends (Taylor’s Version) [From The Vault]', 'Is It Over Now? (Taylor’s Version) [From The Vault]']\n",
    "evermore = ['willow', 'champagne problems', 'gold rush', \"'tis the damn season\",'tolerate it', 'no body, no crime', 'happiness', 'dorothea', 'coney island', 'ivy', 'cowboy like me', 'marjorie', 'closure', 'evermore', \"it's time to go\"]\n",
    "fearless = ['Fearless (Taylor’s Version)', 'Fifteen (Taylor’s Version)', 'Love Story (Taylor’s Version)', 'Hey Stephen (Taylor’s Version)', 'White Horse (Taylor’s Version)', 'You Belong With Me (Taylor’s Version)', 'Breathe (Taylor’s Version)', 'Tell Me Why (Taylor’s Version)', \"You're Not Sorry (Taylor’s Version)\", 'The Way I Loved You (Taylor’s Version)', 'Forever & Always (Taylor’s Version)', \"The Best Day (Taylor’s Version)\", \"Change (Taylor’s Version)\", 'Untouchable (Taylor’s Version)', 'Come In With The Rain (Taylor’s Version)', 'The Other Side Of The Door (Taylor’s Version)', 'Superstar (Taylor’s Version)', 'Today Was a Fairtale (Taylor’s Version)', 'You All Over Me (feat. Marren Morris) (Taylor’s Version) [From The Vault]', 'Mr. Perfectly Fine (Taylor’s Version) [From The Vault]', 'We Were Happy (Taylor’s Version) [From The Vault]', \"That's When (Taylor’s Version) [From The Vault]\", \"Don't You (Taylor’s Version) [From The Vault]\", 'Bye Bye Baby (Taylor’s Version) [From The Vault]']\n",
    "folklore = ['the 1', 'cardigan', 'the last great american dynasty', 'exile', 'my tears ricochet', 'mirrorball', 'seven', 'august', 'this is me trying', 'illicit affairs', 'invisible string', 'mad woman', 'epiphany', 'betty', 'peace', 'hoax', 'the lakes']\n",
    "lover = ['I Forgot That You Existed', 'Cruel Summer', 'Lover', 'The Man', 'The Archer', 'I Think He Knows', 'Miss Americana & The Heartbreak Prince', 'Paper Rings', 'Cornelia Street', 'Death By A Thousand Cuts', 'London Boy', \"Soon You'll Get Better (feat. The Chicks)\", 'False God', 'You Need To Calm Down', 'Afterglow', 'ME! (feat. Brendon Urie of Panic! At the Disco)', \"It's Nice To Have A Friend\", 'Daylight']\n",
    "midnights = ['Lavender Haze', 'Maroon', 'Anti-Hero', 'Snow On The Beach', 'You’re On Your Own, Kid', 'Midnight Rain', 'Question...?', 'Vigilante Shit', 'Bejeweled', 'Labyrinth', 'Karma', 'Sweet Nothing', 'Mastermind', 'The Great War', 'Bigger Than The Whole Sky', 'High Infidelity', 'Glitch', 'Would’ve, Could’ve, Should’ve', 'Dear Reader', 'Hits Different', 'Snow On The Beach']\n",
    "red = ['State of Grace (Taylor’s Version)', 'Red (Taylor’s Version)', 'Treacherous (Taylor’s Version)', 'I Knew You Were Trouble (Taylor’s Version)', 'All Too Well (Taylor’s Version)', '22 (Taylor’s Version)', 'I Almost Do (Taylor’s Version)', 'We Are Never Ever Getting Back Together (Taylor’s Version)', 'Stay Stay Stay (Taylor’s Version)', 'The Last Time (Taylor’s Version)', 'Holy Ground (Taylor’s Version)', 'Sad Beautiful Tragic (Taylor’s Version)', 'The Lucky One (Taylor’s Version)', 'Everything Has Changed (Taylor’s Version)', 'Starlight (Taylor’s Version)', 'Begin Again (Taylor’s Version)', 'The Moment I Knew (Taylor’s Version)', 'Come Back...Be Here (Taylor’s Version)', 'Girl At Home (Taylor’s Version)', 'State Of Grace (Acoustic Version) (Taylor’s Version)', 'Ronan (Taylor’s Version)', 'Better Man (Taylor’s Version) [From The Vault]', 'Nothing New (Taylor’s Version) [From The Vault]', 'Babe (Taylor’s Version) [From The Vault]', 'Message In A Bottle (Taylor’s Version) [From The Vault]', 'I Bet You Think About Me (Taylor’s Version) [From the Vault]', 'Forever Winter (Taylor’s Version) [From The Vault]', 'Run (Taylor’s Version) [From The Vault]', 'The Very First Night (Taylor’s Version) [From The Vault]', 'All Too Well (10 Minute Version) (Taylor’s Version) [From The Vault]']\n",
    "reputation = ['...Ready For It?', 'End Game', 'I Did Something Bad', \"Don't Blame Me\", 'Delicate', 'Look What You Made Me Do', 'So It Goes...', 'Gorgeous', 'Getaway Car', 'King Of My Heart', 'Dancing With Our Hands Tied', 'Dress', \"This Is Why We Can't Have Nice Things\", 'Call It What You Want', \"New Year's Day\"]\n",
    "speak_now = ['Mine (Taylor’s Version)', 'Sparks Fly (Taylor’s Version)', 'Back To December (Taylor’s Version)', 'Speak Now (Taylor’s Version)', 'Dear John (Taylor’s Version)', 'Mean (Taylor’s Version)', 'The Story Of Us (Taylor’s Version)', 'Never Grow Up (Taylor’s Version)', 'Enchanted (Taylor’s Version)', 'Better Than Revenge (Taylor’s Version)', 'Innocent (Taylor’s Version)', 'Haunted (Taylor’s Version)', 'Last Kiss (Taylor’s Version)', 'Long Live (Taylor’s Version)', 'Ours (Taylor’s Version)', 'Superman (Taylor’s Version)', 'Electric Touch (Taylor’s Version) [From The Vault]', 'When Emma Falls in Love (Taylor’s Version) [From The Vault]', 'I Can See You (Taylor’s Version) [From The Vault]', 'Castles Crumbling (Taylor’s Version) [From The Vault]', 'Foolish One (Taylor’s Version) [From The Vault]', 'Timeless (Taylor’s Version) [From The Vault]', 'Speak Now (Taylor’s Version) [Prologue]']"
   ]
  },
  {
   "cell_type": "code",
   "execution_count": 143,
   "id": "2d4d7436",
   "metadata": {},
   "outputs": [],
   "source": [
    "# function to get lyrics for a specific song\n",
    "def get_lyrics(mySong):\n",
    "    myData = genius.search_songs(mySong)\n",
    "    found = False\n",
    "    for hit in myData['hits']:\n",
    "        if artist_name.lower() in hit['result']['primary_artist']['name'].lower():\n",
    "            if not found:\n",
    "                myID = hit['result']['id']\n",
    "                found = True\n",
    "    lyrics = genius.lyrics(song_id = myID, remove_section_headers = True)\n",
    "    lyrics = re.sub(r\"[\\(\\[].*?[\\)\\]]'\", '', lyrics)\n",
    "    lyrics = lyrics.replace(\"Embed\",\"\")\n",
    "    lyrics = os.linesep.join([s for s in lyrics.splitlines() if s])\n",
    "    return lyrics"
   ]
  },
  {
   "cell_type": "code",
   "execution_count": 144,
   "id": "d086e8d0",
   "metadata": {},
   "outputs": [],
   "source": [
    "# function to create folders\n",
    "\n",
    "current_dir = os.getcwd()\n",
    "\n",
    "def make_folder(name, folder):\n",
    "    folder = name\n",
    "    if not os.path.exists(folder):\n",
    "        os.makedirs(folder)"
   ]
  },
  {
   "cell_type": "code",
   "execution_count": 145,
   "id": "95cd9e51",
   "metadata": {},
   "outputs": [],
   "source": [
    "make_folder('debut', debutFolder)\n",
    "make_folder('tv_1989', tv1989Folder)\n",
    "make_folder('evermore', evermoreFolder)\n",
    "make_folder('fearless', fearlessFolder)\n",
    "make_folder('folklore', folkloreFolder)\n",
    "make_folder('lover', loverFolder)\n",
    "make_folder('midnights', midnightsFolder)\n",
    "make_folder('red', redFolder)\n",
    "make_folder('reputation', repFolder)\n",
    "make_folder('speak_now', speaknowFolder)"
   ]
  },
  {
   "cell_type": "code",
   "execution_count": 146,
   "id": "41b2adbe",
   "metadata": {},
   "outputs": [],
   "source": [
    "# function to write all lyrics into a file\n",
    "from tqdm import tqdm\n",
    "\n",
    "def make_files(album_name, myAlbum):\n",
    "    # put lyrics for each song in folder\n",
    "    for song in tqdm(myAlbum, desc = \"Progress\"):\n",
    "        song_lyrics = get_lyrics(song)\n",
    "        text = open(f\"{current_dir}/{album_name}/{song}.txt\", \"w\")\n",
    "        text.write(song_lyrics)\n",
    "        text.close()\n",
    "        with open(f\"{current_dir}/{album_name}/{song}.txt\", \"r+\") as fp:\n",
    "            lines = fp.readlines() \n",
    "            fp.seek(0)\n",
    "            fp.truncate()\n",
    "            fp.writelines(lines[1:])"
   ]
  },
  {
   "cell_type": "code",
   "execution_count": 147,
   "id": "36de1ed4",
   "metadata": {},
   "outputs": [
    {
     "name": "stderr",
     "output_type": "stream",
     "text": [
      "Progress: 100%|█████████████████████████████████| 15/15 [00:37<00:00,  2.52s/it]\n",
      "Progress: 100%|█████████████████████████████████| 21/21 [01:04<00:00,  3.07s/it]\n",
      "Progress: 100%|█████████████████████████████████| 15/15 [00:57<00:00,  3.80s/it]\n",
      "Progress: 100%|█████████████████████████████████| 24/24 [01:03<00:00,  2.64s/it]\n",
      "Progress: 100%|█████████████████████████████████| 17/17 [01:09<00:00,  4.11s/it]\n",
      "Progress: 100%|█████████████████████████████████| 18/18 [01:11<00:00,  3.96s/it]\n",
      "Progress: 100%|█████████████████████████████████| 21/21 [01:18<00:00,  3.73s/it]\n",
      "Progress: 100%|█████████████████████████████████| 31/31 [01:24<00:00,  2.71s/it]\n",
      "Progress: 100%|█████████████████████████████████| 15/15 [00:55<00:00,  3.70s/it]\n",
      "Progress: 100%|█████████████████████████████████| 23/23 [01:06<00:00,  2.89s/it]\n"
     ]
    }
   ],
   "source": [
    "make_files('debut', debut)\n",
    "make_files('tv_1989', tv_1989)\n",
    "make_files('evermore', evermore)\n",
    "make_files('fearless', fearless)\n",
    "make_files('folklore', folklore)\n",
    "make_files('lover', lover)\n",
    "make_files('midnights', midnights)\n",
    "make_files('red', red)\n",
    "make_files('reputation', reputation)\n",
    "make_files('speak_now', speak_now)"
   ]
  },
  {
   "cell_type": "code",
   "execution_count": 185,
   "id": "22565435",
   "metadata": {},
   "outputs": [],
   "source": [
    "# manually add songs that weren't on first pages of search\n",
    "text = open(f\"{current_dir}/midnights/Paris.txt\", \"w\")\n",
    "text.close()\n",
    "\n",
    "text = open(f\"{current_dir}/evermore/right where you left me.txt\", \"w\")\n",
    "text.close()\n",
    "\n",
    "text = open(f\"{current_dir}/evermore/long story short.txt\", \"w\")\n",
    "text.close()"
   ]
  }
 ],
 "metadata": {
  "kernelspec": {
   "display_name": "Python 3 (ipykernel)",
   "language": "python",
   "name": "python3"
  },
  "language_info": {
   "codemirror_mode": {
    "name": "ipython",
    "version": 3
   },
   "file_extension": ".py",
   "mimetype": "text/x-python",
   "name": "python",
   "nbconvert_exporter": "python",
   "pygments_lexer": "ipython3",
   "version": "3.11.4"
  }
 },
 "nbformat": 4,
 "nbformat_minor": 5
}
